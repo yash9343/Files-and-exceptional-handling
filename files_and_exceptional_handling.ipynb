{
  "nbformat": 4,
  "nbformat_minor": 0,
  "metadata": {
    "colab": {
      "provenance": []
    },
    "kernelspec": {
      "name": "python3",
      "display_name": "Python 3"
    },
    "language_info": {
      "name": "python"
    }
  },
  "cells": [
    {
      "cell_type": "markdown",
      "source": [
        "Q1 What is the difference between interpreted and compiled languages?\n",
        "\n",
        "Ans] Interpreted languages:-\n",
        "\n",
        "- Translate source code into byte code.\n",
        "- Read and execute code line by line.\n",
        "- Slower execution but easier to test and run instantly.\n",
        "- Ex. python\n",
        "\n",
        "Compiled languages\n",
        "\n",
        "- Translate source code into machine code.\n",
        "- Once compiled, the program runs directly on the computer’s CPU.\n",
        "- Ex C,C++"
      ],
      "metadata": {
        "id": "WKevP4W-97o9"
      }
    },
    {
      "cell_type": "markdown",
      "source": [],
      "metadata": {
        "id": "SQ9vOFMC97a4"
      }
    },
    {
      "cell_type": "markdown",
      "source": [
        "Q2 What is exception handling in Python?\n",
        "\n",
        "Ans] Exception handling is the way of maintain the flow of code execution when any tipe of exception occurs.\n"
      ],
      "metadata": {
        "id": "ow2j0wWI_7_p"
      }
    },
    {
      "cell_type": "markdown",
      "source": [
        "Q3 What is the purpose of the finally block in exception handling?\n",
        "\n",
        "Ans] Finally block is used to write code that should always run, whether there is an error or not."
      ],
      "metadata": {
        "id": "vX7QEbSoAqYt"
      }
    },
    {
      "cell_type": "markdown",
      "source": [
        "Q4 What is logging in Python?\n",
        "\n",
        "Ans] Logging means keeping a record of what your program is doing while it runs.\n",
        "\n",
        "it is like a diary or a block box for our code, it writes down messages that helps us to understand what happend."
      ],
      "metadata": {
        "id": "maSDiB1sBPjF"
      }
    },
    {
      "cell_type": "markdown",
      "source": [
        "Q5 What is the significance of the __del__ method in Python?\n",
        "\n",
        "Ans] It is a destructor method.\n",
        "Called automatically when an object is about to be destroyed (deleted from memory).\n",
        "\n",
        "Purpose: To clean up resources (like closing files, releasing memory, disconnecting from databases) before the object goes away."
      ],
      "metadata": {
        "id": "MxAr8HbMB-1L"
      }
    },
    {
      "cell_type": "markdown",
      "source": [
        "Q6 What is the difference between import and from ... import in Python?\n",
        "\n",
        "Ans] import\n",
        "\n",
        "- Brings in the whole module.\n",
        "\n",
        "- We must use the module name to access things.\n",
        "\n",
        "from ... import\n",
        "\n",
        "- Brings in specific parts of a module.\n",
        "\n",
        "- we can use them directly without the module name."
      ],
      "metadata": {
        "id": "kJyBjR5qCVCE"
      }
    },
    {
      "cell_type": "markdown",
      "source": [
        "Q7 How can you handle multiple exceptions in Python?\n",
        "\n",
        "Ans] multiple exceptions can occur during program execution. To ensure the program does not crash, Python provides ways to handle them:\n",
        "\n",
        "--> Multiple except Blocks – Each exception type can be handled separately by writing different except clauses for the same try block. This allows different actions for different errors.\n",
        "\n",
        "--> Single except Block with a Tuple – If multiple exception types should be handled in the same way, they can be grouped together inside a tuple in a single except clause.\n",
        "\n",
        "--> Generic Exception Handling – Using a general Exception class allows catching any kind of error. This is helpful when the type of error is unknown, but it is usually recommended to handle specific exceptions whenever possible."
      ],
      "metadata": {
        "id": "YP0DWiFiCbSZ"
      }
    },
    {
      "cell_type": "markdown",
      "source": [
        "Q8 What is the purpose of the with statement when handling files in Python?\n",
        "\n",
        "Ans]\n",
        "- The with statement is used to manage resources like files.\n",
        "\n",
        "- When working with files, it makes sure the file is automatically closed after the block of code is executed, even if an error occurs.\n",
        "\n",
        "- It improves readability and reduces the chance of forgetting to close the file.\n",
        "\n",
        "- Internally, it uses something called a context manager to handle setup (open file) and teardown (close file)."
      ],
      "metadata": {
        "id": "APNeIZ0qDsQd"
      }
    },
    {
      "cell_type": "markdown",
      "source": [
        "Q9 What is the difference between multithreading and multiprocessing?\n",
        "\n",
        "Ans] 1. Multithreading\n",
        "\n",
        "- Uses multiple threads inside a single process.\n",
        "\n",
        "- Threads share the same memory space.\n",
        "\n",
        "- Best for tasks that are I/O bound (like reading/writing files, network requests).\n",
        "\n",
        "- Lightweight but can have issues like the GIL (Global Interpreter Lock) in Python, which allows only one thread to run Python code at a time.\n",
        "\n",
        "2.Multiprocessing\n",
        "\n",
        "- Uses multiple processes.\n",
        "\n",
        "- Each process has its own memory space.\n",
        "\n",
        "- Best for CPU-bound tasks (like heavy calculations).\n",
        "\n",
        "- More powerful but also more resource-consuming than threads."
      ],
      "metadata": {
        "id": "9qg3FeQiC_BX"
      }
    },
    {
      "cell_type": "markdown",
      "source": [
        "Q10 What are the advantages of using logging in a program?\n",
        "\n",
        "Ans]\n",
        "1. Better than print statements → Logging gives more information (like time, level, module) than just print().\n",
        "\n",
        "2. Debugging support → Helps trace errors and understand program flow.\n",
        "\n",
        "3. Different levels → You can classify messages as DEBUG, INFO, WARNING, ERROR, or CRITICAL.\n",
        "\n",
        "4. Permanent record → Logs can be saved to files for future analysis.\n",
        "\n",
        "5. Easier maintenance → Developers can check logs to understand issues without re-running the program.\n",
        "\n",
        "6. Flexibility → You can control where logs go (console, file, database, etc.) and how they look (format, timestamp).\n",
        "\n",
        "7. Scalability → Useful in large applications where print() is not enough to track complex issues."
      ],
      "metadata": {
        "id": "OtKujCKtGh9q"
      }
    },
    {
      "cell_type": "markdown",
      "source": [
        "Q11 What is memory management in Python?\n",
        "\n",
        "Ans] Memory management means how Python allocates and frees memory for objects during program execution.\n",
        "\n",
        "Python has an automatic memory management system, so the programmer doesn’t need to manually allocate or release memory (unlike in C/C++)\n",
        "\n",
        "Key Points\n",
        "\n",
        "1.Private Heap Space\n",
        "\n",
        "- All Python objects and data are stored in a private heap.\n",
        "\n",
        "- This space is managed by the Python memory manager.\n",
        "\n",
        "2.Automatic Garbage Collection\n",
        "\n",
        "- Python automatically removes objects that are no longer needed to free up memory.\n",
        "\n",
        "- This is mostly done using reference counting and a garbage collector for unused objects.\n",
        "\n",
        "3.Memory Allocators\n",
        "\n",
        "- Python has built-in allocators that handle different types of memory needs (like small objects vs large objects)."
      ],
      "metadata": {
        "id": "bEJV9W4THf7z"
      }
    },
    {
      "cell_type": "markdown",
      "source": [
        "Q12 What are the basic steps involved in exception handling in Python?\n",
        "\n",
        "Ans]\n",
        "\n",
        "1. Try block → Write the code that might cause an error inside a try block.\n",
        "\n",
        "2. Except block → If an error occurs, the control moves to the matching except block where you handle the error.\n",
        "\n",
        "3. Else block (optional) → Runs if no exception occurs.\n",
        "\n",
        "4. Finally block (optional) → Runs always, whether an exception occurs or not (used for cleanup like closing files)."
      ],
      "metadata": {
        "id": "3H3c0AlLJEop"
      }
    },
    {
      "cell_type": "markdown",
      "source": [
        "Q13 Why is memory management important in Python?\n",
        "\n",
        "Ans]\n",
        "1. Efficient Resource Use → Memory is limited, so proper management ensures Python programs run smoothly without wasting memory.\n",
        "\n",
        "2. Automatic Cleanup → With garbage collection, unused objects are removed, preventing memory from filling up unnecessarily.\n",
        "\n",
        "3. Program Stability → Poor memory handling can lead to crashes, slow performance, or “memory leaks.” Good memory management avoids these issues.\n",
        "\n",
        "4. Ease for Developers → Python manages memory automatically, so programmers can focus on logic instead of manual allocation/deallocation.\n",
        "\n",
        "5. Performance Optimization → Well-managed memory helps programs run faster and handle larger data efficiently."
      ],
      "metadata": {
        "id": "8RlxHt3bKMgR"
      }
    },
    {
      "cell_type": "markdown",
      "source": [
        "Q14 What is the role of try and except in exception handling?\n",
        "\n",
        "Ans]\n",
        "\n",
        "try block → Used to write the code that might cause an error. Python first runs this block.\n",
        "\n",
        "except block → If an error happens inside the try, the program does not crash. Instead, control shifts to the except block, where the error is handled safely."
      ],
      "metadata": {
        "id": "Tf8z8eQiK-kQ"
      }
    },
    {
      "cell_type": "markdown",
      "source": [
        "Q15 How does Python's garbage collection system work?\n",
        "\n",
        "Ans] Python’s garbage collection works by reference counting (main method) and a cyclic collector (to clean up circular references). Together, they keep memory usage efficient and automatic."
      ],
      "metadata": {
        "id": "0Vm3WJhtLkr3"
      }
    },
    {
      "cell_type": "markdown",
      "source": [
        "Q16 What is the purpose of the else block in exception handling?\n",
        "\n",
        "Ans] else block in exception handling runs only if no error occurs in the try block.\n",
        "\n",
        "It separates normal code from error-handling code."
      ],
      "metadata": {
        "id": "7oJQcNs7MwUr"
      }
    },
    {
      "cell_type": "markdown",
      "source": [
        "Q17 What are the common logging levels in Python?\n",
        "\n",
        "Ans]\n",
        "\n",
        "1. DEBUG → Detailed information (used for troubleshooting).\n",
        "\n",
        "2. INFO → General information about program execution.\n",
        "\n",
        "3. WARNING → Something unexpected happened, but program still runs.\n",
        "\n",
        "4. ERROR → A serious problem occurred, program may not work correctly.\n",
        "\n",
        "5. CRITICAL → Very serious error, program may stop running."
      ],
      "metadata": {
        "id": "e32sQWhoPoy4"
      }
    },
    {
      "cell_type": "markdown",
      "source": [
        "Q18 What is the difference between os.fork() and multiprocessing in Python?\n",
        "\n",
        "Ans]\n",
        "1. os.fork()\n",
        "\n",
        "- Works only on Unix/Linux systems (not available on Windows).\n",
        "\n",
        "- Creates a child process by duplicating the current process.\n",
        "\n",
        "- Low-level, harder to manage (you must handle communication, synchronization manually).\n",
        "\n",
        "- Mainly used in system-level programming.\n",
        "\n",
        "2. multiprocessing Module\n",
        "\n",
        "- Cross-platform (works on Windows, Linux, macOS).\n",
        "\n",
        "- Provides a high-level API to create and manage processes easily.\n",
        "\n",
        "- Supports features like process pools, queues, pipes, and locks for inter-process communication.\n",
        "\n",
        "- Safer and more convenient for application development."
      ],
      "metadata": {
        "id": "kvRiz7QzQEh7"
      }
    },
    {
      "cell_type": "markdown",
      "source": [
        "Q19 What is the importance of closing a file in Python?\n",
        "\n",
        "Ans] Closing a file ensures that data is saved and system resources are freed, keeping the program safe and efficient."
      ],
      "metadata": {
        "id": "vI70e7rYQnkF"
      }
    },
    {
      "cell_type": "markdown",
      "source": [
        "Q20 What is the difference between file.read() and file.readline() in Python?\n",
        "\n",
        "Ans]\n",
        "\n",
        "read() → reads whole file (or given size).\n",
        "\n",
        "readline() → reads one line at a time."
      ],
      "metadata": {
        "id": "hyI_R8JuQ7LT"
      }
    },
    {
      "cell_type": "markdown",
      "source": [
        "Q21 What is the logging module in Python used for?\n",
        "\n",
        "Ans] The logging module is used to track events, errors, and important information in a program, making debugging and maintenance easier."
      ],
      "metadata": {
        "id": "wZXy9QL_RV9u"
      }
    },
    {
      "cell_type": "markdown",
      "source": [
        "Q22 What is the os module in Python used for in file handling?\n",
        "\n",
        "Ans]\n",
        "- The os module in Python provides functions to interact with the operating system.\n",
        "\n",
        "- In file handling, it is mainly used to:\n",
        "\n",
        "1. Work with files and directories → create, remove, rename files/folders.\n",
        "\n",
        "2. Check file properties → like whether a file exists or its size.\n",
        "\n",
        "3. Navigate the file system → get current directory, change directory, list files.\n",
        "\n",
        "4. Path operations → join, split, or normalize file paths."
      ],
      "metadata": {
        "id": "1kqU4s6QRj75"
      }
    },
    {
      "cell_type": "markdown",
      "source": [
        "Q23 What are the challenges associated with memory management in Python?\n",
        "\n",
        "Ans]\n",
        "1. Garbage Collection Overhead\n",
        "\n",
        "- Python’s automatic garbage collector sometimes runs in the background and can affect performance.\n",
        "\n",
        "2. Reference Cycles\n",
        "\n",
        "- Objects that reference each other (circular references) may not be cleaned up immediately, leading to memory being held longer than needed.\n",
        "\n",
        "3. Global Interpreter Lock (GIL)\n",
        "\n",
        "-  the GIL allows only one thread to execute Python bytecode at a time, which can limit memory handling efficiency in multithreaded programs.\n",
        "\n",
        "4. Fragmentation\n",
        "\n",
        "- Long-running programs may suffer from memory fragmentation, where free memory is split into small unusable pieces.\n",
        "\n",
        "5. Large Data Handling\n",
        "\n",
        "- Python objects take more memory compared to lower-level languages (like C), which can be a challenge for memory-intensive applications."
      ],
      "metadata": {
        "id": "UkefqFO3SKZn"
      }
    },
    {
      "cell_type": "markdown",
      "source": [
        "Q24 How do you raise an exception manually in Python?\n",
        "\n",
        "Ans] we can raise (trigger) an exception yourself using the raise keyword.\n",
        "\n",
        "This is useful when we want to stop the program if some condition is not met or when we want to signal that something went wrong."
      ],
      "metadata": {
        "id": "ZvkNmW6sSzlw"
      }
    },
    {
      "cell_type": "markdown",
      "source": [
        "Q25 Why is it important to use multithreading in certain applications?\n",
        "\n",
        "Ans] Multithreading is important in applications that need faster response, concurrency, and efficient handling of multiple tasks at once, especially for I/O-bound tasks"
      ],
      "metadata": {
        "id": "kAaUAZM3TMba"
      }
    },
    {
      "cell_type": "markdown",
      "source": [
        "# PRACTICAL QUESTIONS\n"
      ],
      "metadata": {
        "id": "LwQDjVoCTeDC"
      }
    },
    {
      "cell_type": "markdown",
      "source": [
        "Q1 How can you open a file for writing in Python and write a string to it?\n",
        "\n",
        "Ans]"
      ],
      "metadata": {
        "id": "yL2ypP5MTnTV"
      }
    },
    {
      "cell_type": "code",
      "source": [
        "# Open file in write mode\n",
        "file = open(\"example.txt\", \"w\")\n",
        "\n",
        "# Write a string\n",
        "file.write(\"Hello, Python!\")\n",
        "\n",
        "# Close the file\n",
        "file.close()\n"
      ],
      "metadata": {
        "id": "OCybyprJT6Yz"
      },
      "execution_count": 1,
      "outputs": []
    },
    {
      "cell_type": "markdown",
      "source": [
        "Q2 Write a Python program to read the contents of a file and print each line.\n",
        "\n",
        "Ans]"
      ],
      "metadata": {
        "id": "PetWrWmYT_fr"
      }
    },
    {
      "cell_type": "code",
      "source": [
        "# Open the file in read mode\n",
        "file = open(\"example.txt\", \"r\")\n",
        "\n",
        "# Read each line and print\n",
        "for line in file:\n",
        "    print(line.strip())   # strip() removes extra newline characters\n",
        "\n",
        "# Close the file\n",
        "file.close()\n"
      ],
      "metadata": {
        "colab": {
          "base_uri": "https://localhost:8080/"
        },
        "id": "LGi86QfYUFX6",
        "outputId": "58809db6-0fd6-4c2d-cb8f-13825cd15bc0"
      },
      "execution_count": 2,
      "outputs": [
        {
          "output_type": "stream",
          "name": "stdout",
          "text": [
            "Hello, Python!\n"
          ]
        }
      ]
    },
    {
      "cell_type": "markdown",
      "source": [
        "Q3 How would you handle a case where the file doesn't exist while trying to open it for reading?\n",
        "\n",
        "Ans]"
      ],
      "metadata": {
        "id": "MU-VmdIeURus"
      }
    },
    {
      "cell_type": "code",
      "source": [
        "try:\n",
        "    with open(\"example.txt\", \"r\") as file:\n",
        "        print(file.read())\n",
        "except FileNotFoundError:\n",
        "    print(\"Error: The file does not exist.\")\n"
      ],
      "metadata": {
        "colab": {
          "base_uri": "https://localhost:8080/"
        },
        "id": "LSJH4Fn5UaLK",
        "outputId": "615a0c7b-3360-4b7b-92fd-2c230ae5f016"
      },
      "execution_count": 3,
      "outputs": [
        {
          "output_type": "stream",
          "name": "stdout",
          "text": [
            "Hello, Python!\n"
          ]
        }
      ]
    },
    {
      "cell_type": "markdown",
      "source": [
        "Q4 Write a Python script that reads from one file and writes its content to another file.\n",
        "\n",
        "Ans]"
      ],
      "metadata": {
        "id": "g7wfwQPoUl2Z"
      }
    },
    {
      "cell_type": "code",
      "source": [
        "# Read from source file and write to destination file\n",
        "\n",
        "# Open source file in read mode\n",
        "with open(\"source.txt\", \"r\") as src:\n",
        "    # Read all content\n",
        "    content = src.read()\n",
        "\n",
        "# Open destination file in write mode\n",
        "with open(\"destination.txt\", \"w\") as dest:\n",
        "    # Write the content\n",
        "    dest.write(content)\n",
        "\n",
        "print(\"File copied successfully!\")\n"
      ],
      "metadata": {
        "id": "8VwyRVEAUwj8"
      },
      "execution_count": null,
      "outputs": []
    },
    {
      "cell_type": "markdown",
      "source": [
        "Q5 How would you catch and handle division by zero error in Python?\n",
        "\n",
        "Ans]"
      ],
      "metadata": {
        "id": "3dgheY2QVAwF"
      }
    },
    {
      "cell_type": "code",
      "source": [
        "try:\n",
        "    num1 = 10\n",
        "    num2 = 0\n",
        "    result = num1 / num2   # risky code\n",
        "    print(\"Result:\", result)\n",
        "except ZeroDivisionError:\n",
        "    print(\"Error: Cannot divide by zero.\")\n"
      ],
      "metadata": {
        "colab": {
          "base_uri": "https://localhost:8080/"
        },
        "id": "MAEaJV5EVWhI",
        "outputId": "136acb49-4e15-49ef-d6ec-ad4e1e14d03d"
      },
      "execution_count": 4,
      "outputs": [
        {
          "output_type": "stream",
          "name": "stdout",
          "text": [
            "Error: Cannot divide by zero.\n"
          ]
        }
      ]
    },
    {
      "cell_type": "markdown",
      "source": [
        "Q6 Write a Python program that logs an error message to a log file when a division by zero exception occurs.\n",
        "\n",
        "Ans]"
      ],
      "metadata": {
        "id": "ZRzvwr1XVaGy"
      }
    },
    {
      "cell_type": "code",
      "source": [
        "import logging\n",
        "\n",
        "# Save logs to a file\n",
        "logging.basicConfig(filename=\"error.log\", level=logging.ERROR)\n",
        "\n",
        "try:\n",
        "    x = 10 / 0\n",
        "except ZeroDivisionError:\n",
        "    logging.error(\"Tried to divide by zero\")\n",
        "    print(\"Error logged to file\")\n"
      ],
      "metadata": {
        "colab": {
          "base_uri": "https://localhost:8080/"
        },
        "id": "pa3-R725VexX",
        "outputId": "e3b5c88f-6514-4e63-f216-c62df1c79bb2"
      },
      "execution_count": 5,
      "outputs": [
        {
          "output_type": "stream",
          "name": "stderr",
          "text": [
            "ERROR:root:Tried to divide by zero\n"
          ]
        },
        {
          "output_type": "stream",
          "name": "stdout",
          "text": [
            "Error logged to file\n"
          ]
        }
      ]
    },
    {
      "cell_type": "markdown",
      "source": [
        "Q7  How do you log information at different levels (INFO, ERROR, WARNING) in Python using the logging module?\n",
        "\n",
        "Ans]"
      ],
      "metadata": {
        "id": "S4XYPbVTV0Vo"
      }
    },
    {
      "cell_type": "code",
      "source": [
        "import logging\n",
        "\n",
        "# Configure logging\n",
        "logging.basicConfig(filename=\"app.log\", level=logging.DEBUG)\n",
        "\n",
        "logging.info(\"This is an info message\")\n",
        "logging.warning(\"This is a warning message\")\n",
        "logging.error(\"This is an error message\")\n",
        "\n",
        "print(\"Logs written to app.log\")\n"
      ],
      "metadata": {
        "colab": {
          "base_uri": "https://localhost:8080/"
        },
        "id": "9-Dhtqr4V7vK",
        "outputId": "ebed2dc7-678e-4daf-def7-8410433e0648"
      },
      "execution_count": 6,
      "outputs": [
        {
          "output_type": "stream",
          "name": "stderr",
          "text": [
            "WARNING:root:This is a warning message\n",
            "ERROR:root:This is an error message\n"
          ]
        },
        {
          "output_type": "stream",
          "name": "stdout",
          "text": [
            "Logs written to app.log\n"
          ]
        }
      ]
    },
    {
      "cell_type": "markdown",
      "source": [
        "Q8 Write a program to handle a file opening error using exception handling.\n",
        "\n",
        "Ans]"
      ],
      "metadata": {
        "id": "f3uiIFvMWBXo"
      }
    },
    {
      "cell_type": "code",
      "source": [
        "try:\n",
        "    # Try opening a file that may not exist\n",
        "    with open(\"myfile.txt\", \"r\") as file:\n",
        "        content = file.read()\n",
        "        print(content)\n",
        "except FileNotFoundError:\n",
        "    print(\"Error: File not found!\")\n"
      ],
      "metadata": {
        "colab": {
          "base_uri": "https://localhost:8080/"
        },
        "id": "7olexIcbW4h0",
        "outputId": "281c9992-3589-40d1-9f12-1af23f3b5887"
      },
      "execution_count": 13,
      "outputs": [
        {
          "output_type": "stream",
          "name": "stdout",
          "text": [
            "Error: File not found!\n"
          ]
        }
      ]
    },
    {
      "cell_type": "markdown",
      "source": [
        "Q9 How can you read a file line by line and store its content in a list in Python?\n",
        "\n",
        "Ans]"
      ],
      "metadata": {
        "id": "65CeuycfW-mY"
      }
    },
    {
      "cell_type": "code",
      "source": [
        "with open(\"example.txt\", \"r\") as file:\n",
        "    lines = file.readlines()   # stores all lines in a list\n",
        "\n",
        "print(lines)\n"
      ],
      "metadata": {
        "colab": {
          "base_uri": "https://localhost:8080/"
        },
        "id": "-FsgeRb5XFKM",
        "outputId": "7152d007-5fd3-4b3a-84e6-38134fa91b44"
      },
      "execution_count": 12,
      "outputs": [
        {
          "output_type": "stream",
          "name": "stdout",
          "text": [
            "['Hello, Python!']\n"
          ]
        }
      ]
    },
    {
      "cell_type": "markdown",
      "source": [
        "Q10 How can you append data to an existing file in Python?\n",
        "\n",
        "Ans]"
      ],
      "metadata": {
        "id": "_rQnY0cYXRS-"
      }
    },
    {
      "cell_type": "code",
      "source": [
        "# Open file in append mode\n",
        "with open(\"example.txt\", \"a\") as file:\n",
        "    file.write(\"\\nThis is new appended text.\")\n",
        "\n",
        "print(\"Data appended successfully!\")\n"
      ],
      "metadata": {
        "colab": {
          "base_uri": "https://localhost:8080/"
        },
        "id": "GZdjXhq2XYdt",
        "outputId": "10237c57-5f0d-450b-d7ec-f619a4f02a82"
      },
      "execution_count": 14,
      "outputs": [
        {
          "output_type": "stream",
          "name": "stdout",
          "text": [
            "Data appended successfully!\n"
          ]
        }
      ]
    },
    {
      "cell_type": "markdown",
      "source": [
        "Q11 Write a Python program that uses a try-except block to handle an error when attempting to access a\n",
        "dictionary key that doesn't exist.\n",
        "\n",
        "Ans]"
      ],
      "metadata": {
        "id": "zd9ETbuvXvCL"
      }
    },
    {
      "cell_type": "code",
      "source": [
        "# Sample dictionary\n",
        "my_dict = {\"name\": \"Yash\", \"age\": 21}\n",
        "\n",
        "try:\n",
        "    # Trying to access a key that may not exist\n",
        "    value = my_dict[\"city\"]\n",
        "    print(\"City:\", value)\n",
        "except KeyError:\n",
        "    print(\"Error: Key does not exist in the dictionary\")\n"
      ],
      "metadata": {
        "colab": {
          "base_uri": "https://localhost:8080/"
        },
        "id": "Eg5awFgCX9By",
        "outputId": "dc5db75e-9c29-4f85-9fcb-a2de30224e60"
      },
      "execution_count": 15,
      "outputs": [
        {
          "output_type": "stream",
          "name": "stdout",
          "text": [
            "Error: Key does not exist in the dictionary\n"
          ]
        }
      ]
    },
    {
      "cell_type": "markdown",
      "source": [
        "Q12 Write a program that demonstrates using multiple except blocks to handle different types of exceptions.\n",
        "\n",
        "Ans]"
      ],
      "metadata": {
        "id": "dVPAqlykX_yA"
      }
    },
    {
      "cell_type": "code",
      "source": [
        "try:\n",
        "    # Example risky operations\n",
        "    num = int(\"abc\")        # ValueError\n",
        "    result = 10 / 0         # ZeroDivisionError\n",
        "except ValueError:\n",
        "    print(\"Error: Invalid conversion! Cannot convert to integer.\")\n",
        "except ZeroDivisionError:\n",
        "    print(\"Error: Cannot divide by zero.\")\n",
        "except Exception as e:\n",
        "    print(\"Some other error occurred:\", e)\n"
      ],
      "metadata": {
        "colab": {
          "base_uri": "https://localhost:8080/"
        },
        "id": "Y263qtFjYL5s",
        "outputId": "4093ca12-f94c-4a09-f802-8a03c4a005f1"
      },
      "execution_count": 16,
      "outputs": [
        {
          "output_type": "stream",
          "name": "stdout",
          "text": [
            "Error: Invalid conversion! Cannot convert to integer.\n"
          ]
        }
      ]
    },
    {
      "cell_type": "markdown",
      "source": [
        "Q13 How would you check if a file exists before attempting to read it in Python?\n",
        "\n",
        "Ans]"
      ],
      "metadata": {
        "id": "xd_SrWjJYT38"
      }
    },
    {
      "cell_type": "code",
      "source": [
        "import os\n",
        "\n",
        "filename = \"example.txt\"\n",
        "\n",
        "if os.path.exists(filename):\n",
        "    with open(filename, \"r\") as file:\n",
        "        print(file.read())\n",
        "else:\n",
        "    print(\"File does not exist!\")\n"
      ],
      "metadata": {
        "colab": {
          "base_uri": "https://localhost:8080/"
        },
        "id": "dYf3pO3qYZlf",
        "outputId": "fd3a5abb-109e-4129-fee5-306f0c777644"
      },
      "execution_count": 17,
      "outputs": [
        {
          "output_type": "stream",
          "name": "stdout",
          "text": [
            "Hello, Python!\n",
            "This is new appended text.\n"
          ]
        }
      ]
    },
    {
      "cell_type": "markdown",
      "source": [
        "Q14  Write a program that uses the logging module to log both informational and error messages.\n",
        "\n",
        "Ans]"
      ],
      "metadata": {
        "id": "bppfAPJrYnQX"
      }
    },
    {
      "cell_type": "code",
      "source": [
        "import logging\n",
        "\n",
        "# Configure logging\n",
        "logging.basicConfig(\n",
        "    filename=\"app.log\",        # log file name\n",
        "    level=logging.DEBUG,       # log level\n",
        "    format=\"%(asctime)s - %(levelname)s - %(message)s\"\n",
        ")\n",
        "\n",
        "# Log an info message\n",
        "logging.info(\"Program started successfully\")\n",
        "\n",
        "try:\n",
        "    x = 10 / 0   # This will raise ZeroDivisionError\n",
        "except ZeroDivisionError:\n",
        "    logging.error(\"Division by zero error occurred\")\n",
        "\n",
        "logging.info(\"Program finished\")\n",
        "print(\"Logs written to app.log\")\n"
      ],
      "metadata": {
        "colab": {
          "base_uri": "https://localhost:8080/"
        },
        "id": "Zi5aiE70Yugy",
        "outputId": "7f7dd5f5-cb76-4c49-b6e5-6cdf02e749ad"
      },
      "execution_count": 18,
      "outputs": [
        {
          "output_type": "stream",
          "name": "stderr",
          "text": [
            "ERROR:root:Division by zero error occurred\n"
          ]
        },
        {
          "output_type": "stream",
          "name": "stdout",
          "text": [
            "Logs written to app.log\n"
          ]
        }
      ]
    },
    {
      "cell_type": "markdown",
      "source": [
        "Q15 F Write a Python program that prints the content of a file and handles the case when the file is empty.\n",
        "\n",
        "Ans]"
      ],
      "metadata": {
        "id": "8yc6FBxmY0iT"
      }
    },
    {
      "cell_type": "code",
      "source": [
        "try:\n",
        "    with open(\"example.txt\", \"r\") as file:\n",
        "        content = file.read()\n",
        "\n",
        "        if content.strip() == \"\":\n",
        "            print(\"The file is empty.\")\n",
        "        else:\n",
        "            print(\"File content:\\n\", content)\n",
        "\n",
        "except FileNotFoundError:\n",
        "    print(\"Error: The file does not exist.\")\n"
      ],
      "metadata": {
        "id": "MFS1vuTeY7kW"
      },
      "execution_count": null,
      "outputs": []
    },
    {
      "cell_type": "markdown",
      "source": [
        "Q16 Demonstrate how to use memory profiling to check the memory usage of a small program.\n",
        "\n",
        "Ans]"
      ],
      "metadata": {
        "id": "d_YAMib_ZEIJ"
      }
    },
    {
      "cell_type": "code",
      "source": [
        "!pip install memory-profiler\n",
        "\n",
        "from memory_profiler import memory_usage\n",
        "\n",
        "def create_list():\n",
        "    data = [i for i in range(1000000)]  # big list\n",
        "    return data\n",
        "\n",
        "# Measure memory usage of the function\n",
        "mem_usage = memory_usage((create_list,))\n",
        "\n",
        "print(\"Memory used:\", max(mem_usage) - min(mem_usage), \"MiB\")\n"
      ],
      "metadata": {
        "colab": {
          "base_uri": "https://localhost:8080/"
        },
        "id": "vZbJltk1ZK3N",
        "outputId": "d00976f8-92b5-4da5-cef9-d0289ff49c48"
      },
      "execution_count": 21,
      "outputs": [
        {
          "output_type": "stream",
          "name": "stdout",
          "text": [
            "Collecting memory-profiler\n",
            "  Downloading memory_profiler-0.61.0-py3-none-any.whl.metadata (20 kB)\n",
            "Requirement already satisfied: psutil in /usr/local/lib/python3.12/dist-packages (from memory-profiler) (5.9.5)\n",
            "Downloading memory_profiler-0.61.0-py3-none-any.whl (31 kB)\n",
            "Installing collected packages: memory-profiler\n",
            "Successfully installed memory-profiler-0.61.0\n",
            "Memory used: 38.37890625 MiB\n"
          ]
        }
      ]
    },
    {
      "cell_type": "markdown",
      "source": [
        "Q17 Write a Python program to create and write a list of numbers to a file, one number per line.\n",
        "\n",
        "Ans]"
      ],
      "metadata": {
        "id": "4Amda4lxZs9g"
      }
    },
    {
      "cell_type": "code",
      "source": [
        "# List of numbers\n",
        "numbers = [1, 2, 3, 4, 5]\n",
        "\n",
        "# Open file in write mode\n",
        "with open(\"numbers.txt\", \"w\") as file:\n",
        "    for num in numbers:\n",
        "        file.write(str(num) + \"\\n\")   # write each number on a new line\n",
        "\n",
        "print(\"Numbers written to numbers.txt\")\n"
      ],
      "metadata": {
        "colab": {
          "base_uri": "https://localhost:8080/"
        },
        "id": "AIpK0uo6Z3G-",
        "outputId": "26d22d18-34ed-407c-ad7d-3116af6f4144"
      },
      "execution_count": 22,
      "outputs": [
        {
          "output_type": "stream",
          "name": "stdout",
          "text": [
            "Numbers written to numbers.txt\n"
          ]
        }
      ]
    },
    {
      "cell_type": "markdown",
      "source": [
        "Q18  How would you implement a basic logging setup that logs to a file with rotation after 1MB?\n",
        "\n",
        "Ans]"
      ],
      "metadata": {
        "id": "iI9nCNJYZ95_"
      }
    },
    {
      "cell_type": "code",
      "source": [
        "import logging\n",
        "from logging.handlers import RotatingFileHandler\n",
        "\n",
        "# Create a rotating file handler (max size = 1 MB, keep 3 backup files)\n",
        "handler = RotatingFileHandler(\"app.log\", maxBytes=1_000_000, backupCount=3)\n",
        "\n",
        "# Set logging format\n",
        "formatter = logging.Formatter(\"%(asctime)s - %(levelname)s - %(message)s\")\n",
        "handler.setFormatter(formatter)\n",
        "\n",
        "# Create logger\n",
        "logger = logging.getLogger(\"my_logger\")\n",
        "logger.setLevel(logging.INFO)\n",
        "logger.addHandler(handler)\n",
        "\n",
        "# Example logs\n",
        "for i in range(10000):\n",
        "    logger.info(f\"Log message {i}\")\n"
      ],
      "metadata": {
        "colab": {
          "base_uri": "https://localhost:8080/"
        },
        "collapsed": true,
        "id": "vNeUZB0JaDcQ",
        "outputId": "aa88c0a3-2f30-4510-b7b1-170ae2fd6613"
      },
      "execution_count": 23,
      "outputs": [
        {
          "output_type": "stream",
          "name": "stderr",
          "text": [
            "INFO:my_logger:Log message 9479\n",
            "INFO:my_logger:Log message 9480\n",
            "INFO:my_logger:Log message 9481\n",
            "INFO:my_logger:Log message 9482\n",
            "INFO:my_logger:Log message 9483\n",
            "INFO:my_logger:Log message 9484\n",
            "INFO:my_logger:Log message 9485\n",
            "INFO:my_logger:Log message 9486\n",
            "INFO:my_logger:Log message 9487\n",
            "INFO:my_logger:Log message 9488\n",
            "INFO:my_logger:Log message 9489\n",
            "INFO:my_logger:Log message 9490\n",
            "INFO:my_logger:Log message 9491\n",
            "INFO:my_logger:Log message 9492\n",
            "INFO:my_logger:Log message 9493\n",
            "INFO:my_logger:Log message 9494\n",
            "INFO:my_logger:Log message 9495\n",
            "INFO:my_logger:Log message 9496\n",
            "INFO:my_logger:Log message 9497\n",
            "INFO:my_logger:Log message 9498\n",
            "INFO:my_logger:Log message 9499\n",
            "INFO:my_logger:Log message 9500\n",
            "INFO:my_logger:Log message 9501\n",
            "INFO:my_logger:Log message 9502\n",
            "INFO:my_logger:Log message 9503\n",
            "INFO:my_logger:Log message 9504\n",
            "INFO:my_logger:Log message 9505\n",
            "INFO:my_logger:Log message 9506\n",
            "INFO:my_logger:Log message 9507\n",
            "INFO:my_logger:Log message 9508\n",
            "INFO:my_logger:Log message 9509\n",
            "INFO:my_logger:Log message 9510\n",
            "INFO:my_logger:Log message 9511\n",
            "INFO:my_logger:Log message 9512\n",
            "INFO:my_logger:Log message 9513\n",
            "INFO:my_logger:Log message 9514\n",
            "INFO:my_logger:Log message 9515\n",
            "INFO:my_logger:Log message 9516\n",
            "INFO:my_logger:Log message 9517\n",
            "INFO:my_logger:Log message 9518\n",
            "INFO:my_logger:Log message 9519\n",
            "INFO:my_logger:Log message 9520\n",
            "INFO:my_logger:Log message 9521\n",
            "INFO:my_logger:Log message 9522\n",
            "INFO:my_logger:Log message 9523\n",
            "INFO:my_logger:Log message 9524\n",
            "INFO:my_logger:Log message 9525\n",
            "INFO:my_logger:Log message 9526\n",
            "INFO:my_logger:Log message 9527\n",
            "INFO:my_logger:Log message 9528\n",
            "INFO:my_logger:Log message 9529\n",
            "INFO:my_logger:Log message 9530\n",
            "INFO:my_logger:Log message 9531\n",
            "INFO:my_logger:Log message 9532\n",
            "INFO:my_logger:Log message 9533\n",
            "INFO:my_logger:Log message 9534\n",
            "INFO:my_logger:Log message 9535\n",
            "INFO:my_logger:Log message 9536\n",
            "INFO:my_logger:Log message 9537\n",
            "INFO:my_logger:Log message 9538\n",
            "INFO:my_logger:Log message 9539\n",
            "INFO:my_logger:Log message 9540\n",
            "INFO:my_logger:Log message 9541\n",
            "INFO:my_logger:Log message 9542\n",
            "INFO:my_logger:Log message 9543\n",
            "INFO:my_logger:Log message 9544\n",
            "INFO:my_logger:Log message 9545\n",
            "INFO:my_logger:Log message 9546\n",
            "INFO:my_logger:Log message 9547\n",
            "INFO:my_logger:Log message 9548\n",
            "INFO:my_logger:Log message 9549\n",
            "INFO:my_logger:Log message 9550\n",
            "INFO:my_logger:Log message 9551\n",
            "INFO:my_logger:Log message 9552\n",
            "INFO:my_logger:Log message 9553\n",
            "INFO:my_logger:Log message 9554\n",
            "INFO:my_logger:Log message 9555\n",
            "INFO:my_logger:Log message 9556\n",
            "INFO:my_logger:Log message 9557\n",
            "INFO:my_logger:Log message 9558\n",
            "INFO:my_logger:Log message 9559\n",
            "INFO:my_logger:Log message 9560\n",
            "INFO:my_logger:Log message 9561\n",
            "INFO:my_logger:Log message 9562\n",
            "INFO:my_logger:Log message 9563\n",
            "INFO:my_logger:Log message 9564\n",
            "INFO:my_logger:Log message 9565\n",
            "INFO:my_logger:Log message 9566\n",
            "INFO:my_logger:Log message 9567\n",
            "INFO:my_logger:Log message 9568\n",
            "INFO:my_logger:Log message 9569\n",
            "INFO:my_logger:Log message 9570\n",
            "INFO:my_logger:Log message 9571\n",
            "INFO:my_logger:Log message 9572\n",
            "INFO:my_logger:Log message 9573\n",
            "INFO:my_logger:Log message 9574\n",
            "INFO:my_logger:Log message 9575\n",
            "INFO:my_logger:Log message 9576\n",
            "INFO:my_logger:Log message 9577\n",
            "INFO:my_logger:Log message 9578\n",
            "INFO:my_logger:Log message 9579\n",
            "INFO:my_logger:Log message 9580\n",
            "INFO:my_logger:Log message 9581\n",
            "INFO:my_logger:Log message 9582\n",
            "INFO:my_logger:Log message 9583\n",
            "INFO:my_logger:Log message 9584\n",
            "INFO:my_logger:Log message 9585\n",
            "INFO:my_logger:Log message 9586\n",
            "INFO:my_logger:Log message 9587\n",
            "INFO:my_logger:Log message 9588\n",
            "INFO:my_logger:Log message 9589\n",
            "INFO:my_logger:Log message 9590\n",
            "INFO:my_logger:Log message 9591\n",
            "INFO:my_logger:Log message 9592\n",
            "INFO:my_logger:Log message 9593\n",
            "INFO:my_logger:Log message 9594\n",
            "INFO:my_logger:Log message 9595\n",
            "INFO:my_logger:Log message 9596\n",
            "INFO:my_logger:Log message 9597\n",
            "INFO:my_logger:Log message 9598\n",
            "INFO:my_logger:Log message 9599\n",
            "INFO:my_logger:Log message 9600\n",
            "INFO:my_logger:Log message 9601\n",
            "INFO:my_logger:Log message 9602\n",
            "INFO:my_logger:Log message 9603\n",
            "INFO:my_logger:Log message 9604\n",
            "INFO:my_logger:Log message 9605\n",
            "INFO:my_logger:Log message 9606\n",
            "INFO:my_logger:Log message 9607\n",
            "INFO:my_logger:Log message 9608\n",
            "INFO:my_logger:Log message 9609\n",
            "INFO:my_logger:Log message 9610\n",
            "INFO:my_logger:Log message 9611\n",
            "INFO:my_logger:Log message 9612\n",
            "INFO:my_logger:Log message 9613\n",
            "INFO:my_logger:Log message 9614\n",
            "INFO:my_logger:Log message 9615\n",
            "INFO:my_logger:Log message 9616\n",
            "INFO:my_logger:Log message 9617\n",
            "INFO:my_logger:Log message 9618\n",
            "INFO:my_logger:Log message 9619\n",
            "INFO:my_logger:Log message 9620\n",
            "INFO:my_logger:Log message 9621\n",
            "INFO:my_logger:Log message 9622\n",
            "INFO:my_logger:Log message 9623\n",
            "INFO:my_logger:Log message 9624\n",
            "INFO:my_logger:Log message 9625\n",
            "INFO:my_logger:Log message 9626\n",
            "INFO:my_logger:Log message 9627\n",
            "INFO:my_logger:Log message 9628\n",
            "INFO:my_logger:Log message 9629\n",
            "INFO:my_logger:Log message 9630\n",
            "INFO:my_logger:Log message 9631\n",
            "INFO:my_logger:Log message 9632\n",
            "INFO:my_logger:Log message 9633\n",
            "INFO:my_logger:Log message 9634\n",
            "INFO:my_logger:Log message 9635\n",
            "INFO:my_logger:Log message 9636\n",
            "INFO:my_logger:Log message 9637\n",
            "INFO:my_logger:Log message 9638\n",
            "INFO:my_logger:Log message 9639\n",
            "INFO:my_logger:Log message 9640\n",
            "INFO:my_logger:Log message 9641\n",
            "INFO:my_logger:Log message 9642\n",
            "INFO:my_logger:Log message 9643\n",
            "INFO:my_logger:Log message 9644\n",
            "INFO:my_logger:Log message 9645\n",
            "INFO:my_logger:Log message 9646\n",
            "INFO:my_logger:Log message 9647\n",
            "INFO:my_logger:Log message 9648\n",
            "INFO:my_logger:Log message 9649\n",
            "INFO:my_logger:Log message 9650\n",
            "INFO:my_logger:Log message 9651\n",
            "INFO:my_logger:Log message 9652\n",
            "INFO:my_logger:Log message 9653\n",
            "INFO:my_logger:Log message 9654\n",
            "INFO:my_logger:Log message 9655\n",
            "INFO:my_logger:Log message 9656\n",
            "INFO:my_logger:Log message 9657\n",
            "INFO:my_logger:Log message 9658\n",
            "INFO:my_logger:Log message 9659\n",
            "INFO:my_logger:Log message 9660\n",
            "INFO:my_logger:Log message 9661\n",
            "INFO:my_logger:Log message 9662\n",
            "INFO:my_logger:Log message 9663\n",
            "INFO:my_logger:Log message 9664\n",
            "INFO:my_logger:Log message 9665\n",
            "INFO:my_logger:Log message 9666\n",
            "INFO:my_logger:Log message 9667\n",
            "INFO:my_logger:Log message 9668\n",
            "INFO:my_logger:Log message 9669\n",
            "INFO:my_logger:Log message 9670\n",
            "INFO:my_logger:Log message 9671\n",
            "INFO:my_logger:Log message 9672\n",
            "INFO:my_logger:Log message 9673\n",
            "INFO:my_logger:Log message 9674\n",
            "INFO:my_logger:Log message 9675\n",
            "INFO:my_logger:Log message 9676\n",
            "INFO:my_logger:Log message 9677\n",
            "INFO:my_logger:Log message 9678\n",
            "INFO:my_logger:Log message 9679\n",
            "INFO:my_logger:Log message 9680\n",
            "INFO:my_logger:Log message 9681\n",
            "INFO:my_logger:Log message 9682\n",
            "INFO:my_logger:Log message 9683\n",
            "INFO:my_logger:Log message 9684\n",
            "INFO:my_logger:Log message 9685\n",
            "INFO:my_logger:Log message 9686\n",
            "INFO:my_logger:Log message 9687\n",
            "INFO:my_logger:Log message 9688\n",
            "INFO:my_logger:Log message 9689\n",
            "INFO:my_logger:Log message 9690\n",
            "INFO:my_logger:Log message 9691\n",
            "INFO:my_logger:Log message 9692\n",
            "INFO:my_logger:Log message 9693\n",
            "INFO:my_logger:Log message 9694\n",
            "INFO:my_logger:Log message 9695\n",
            "INFO:my_logger:Log message 9696\n",
            "INFO:my_logger:Log message 9697\n",
            "INFO:my_logger:Log message 9698\n",
            "INFO:my_logger:Log message 9699\n",
            "INFO:my_logger:Log message 9700\n",
            "INFO:my_logger:Log message 9701\n",
            "INFO:my_logger:Log message 9702\n",
            "INFO:my_logger:Log message 9703\n",
            "INFO:my_logger:Log message 9704\n",
            "INFO:my_logger:Log message 9705\n",
            "INFO:my_logger:Log message 9706\n",
            "INFO:my_logger:Log message 9707\n",
            "INFO:my_logger:Log message 9708\n",
            "INFO:my_logger:Log message 9709\n",
            "INFO:my_logger:Log message 9710\n",
            "INFO:my_logger:Log message 9711\n",
            "INFO:my_logger:Log message 9712\n",
            "INFO:my_logger:Log message 9713\n",
            "INFO:my_logger:Log message 9714\n",
            "INFO:my_logger:Log message 9715\n",
            "INFO:my_logger:Log message 9716\n",
            "INFO:my_logger:Log message 9717\n",
            "INFO:my_logger:Log message 9718\n",
            "INFO:my_logger:Log message 9719\n",
            "INFO:my_logger:Log message 9720\n",
            "INFO:my_logger:Log message 9721\n",
            "INFO:my_logger:Log message 9722\n",
            "INFO:my_logger:Log message 9723\n",
            "INFO:my_logger:Log message 9724\n",
            "INFO:my_logger:Log message 9725\n",
            "INFO:my_logger:Log message 9726\n",
            "INFO:my_logger:Log message 9727\n",
            "INFO:my_logger:Log message 9728\n",
            "INFO:my_logger:Log message 9729\n",
            "INFO:my_logger:Log message 9730\n",
            "INFO:my_logger:Log message 9731\n",
            "INFO:my_logger:Log message 9732\n",
            "INFO:my_logger:Log message 9733\n",
            "INFO:my_logger:Log message 9734\n",
            "INFO:my_logger:Log message 9735\n",
            "INFO:my_logger:Log message 9736\n",
            "INFO:my_logger:Log message 9737\n",
            "INFO:my_logger:Log message 9738\n",
            "INFO:my_logger:Log message 9739\n",
            "INFO:my_logger:Log message 9740\n",
            "INFO:my_logger:Log message 9741\n",
            "INFO:my_logger:Log message 9742\n",
            "INFO:my_logger:Log message 9743\n",
            "INFO:my_logger:Log message 9744\n",
            "INFO:my_logger:Log message 9745\n",
            "INFO:my_logger:Log message 9746\n",
            "INFO:my_logger:Log message 9747\n",
            "INFO:my_logger:Log message 9748\n",
            "INFO:my_logger:Log message 9749\n",
            "INFO:my_logger:Log message 9750\n",
            "INFO:my_logger:Log message 9751\n",
            "INFO:my_logger:Log message 9752\n",
            "INFO:my_logger:Log message 9753\n",
            "INFO:my_logger:Log message 9754\n",
            "INFO:my_logger:Log message 9755\n",
            "INFO:my_logger:Log message 9756\n",
            "INFO:my_logger:Log message 9757\n",
            "INFO:my_logger:Log message 9758\n",
            "INFO:my_logger:Log message 9759\n",
            "INFO:my_logger:Log message 9760\n",
            "INFO:my_logger:Log message 9761\n",
            "INFO:my_logger:Log message 9762\n",
            "INFO:my_logger:Log message 9763\n",
            "INFO:my_logger:Log message 9764\n",
            "INFO:my_logger:Log message 9765\n",
            "INFO:my_logger:Log message 9766\n",
            "INFO:my_logger:Log message 9767\n",
            "INFO:my_logger:Log message 9768\n",
            "INFO:my_logger:Log message 9769\n",
            "INFO:my_logger:Log message 9770\n",
            "INFO:my_logger:Log message 9771\n",
            "INFO:my_logger:Log message 9772\n",
            "INFO:my_logger:Log message 9773\n",
            "INFO:my_logger:Log message 9774\n",
            "INFO:my_logger:Log message 9775\n",
            "INFO:my_logger:Log message 9776\n",
            "INFO:my_logger:Log message 9777\n",
            "INFO:my_logger:Log message 9778\n",
            "INFO:my_logger:Log message 9779\n",
            "INFO:my_logger:Log message 9780\n",
            "INFO:my_logger:Log message 9781\n",
            "INFO:my_logger:Log message 9782\n",
            "INFO:my_logger:Log message 9783\n",
            "INFO:my_logger:Log message 9784\n",
            "INFO:my_logger:Log message 9785\n",
            "INFO:my_logger:Log message 9786\n",
            "INFO:my_logger:Log message 9787\n",
            "INFO:my_logger:Log message 9788\n",
            "INFO:my_logger:Log message 9789\n",
            "INFO:my_logger:Log message 9790\n",
            "INFO:my_logger:Log message 9791\n",
            "INFO:my_logger:Log message 9792\n",
            "INFO:my_logger:Log message 9793\n",
            "INFO:my_logger:Log message 9794\n",
            "INFO:my_logger:Log message 9795\n",
            "INFO:my_logger:Log message 9796\n",
            "INFO:my_logger:Log message 9797\n",
            "INFO:my_logger:Log message 9798\n",
            "INFO:my_logger:Log message 9799\n",
            "INFO:my_logger:Log message 9800\n",
            "INFO:my_logger:Log message 9801\n",
            "INFO:my_logger:Log message 9802\n",
            "INFO:my_logger:Log message 9803\n",
            "INFO:my_logger:Log message 9804\n",
            "INFO:my_logger:Log message 9805\n",
            "INFO:my_logger:Log message 9806\n",
            "INFO:my_logger:Log message 9807\n",
            "INFO:my_logger:Log message 9808\n",
            "INFO:my_logger:Log message 9809\n",
            "INFO:my_logger:Log message 9810\n",
            "INFO:my_logger:Log message 9811\n",
            "INFO:my_logger:Log message 9812\n",
            "INFO:my_logger:Log message 9813\n",
            "INFO:my_logger:Log message 9814\n",
            "INFO:my_logger:Log message 9815\n",
            "INFO:my_logger:Log message 9816\n",
            "INFO:my_logger:Log message 9817\n",
            "INFO:my_logger:Log message 9818\n",
            "INFO:my_logger:Log message 9819\n",
            "INFO:my_logger:Log message 9820\n",
            "INFO:my_logger:Log message 9821\n",
            "INFO:my_logger:Log message 9822\n",
            "INFO:my_logger:Log message 9823\n",
            "INFO:my_logger:Log message 9824\n",
            "INFO:my_logger:Log message 9825\n",
            "INFO:my_logger:Log message 9826\n",
            "INFO:my_logger:Log message 9827\n",
            "INFO:my_logger:Log message 9828\n",
            "INFO:my_logger:Log message 9829\n",
            "INFO:my_logger:Log message 9830\n",
            "INFO:my_logger:Log message 9831\n",
            "INFO:my_logger:Log message 9832\n",
            "INFO:my_logger:Log message 9833\n",
            "INFO:my_logger:Log message 9834\n",
            "INFO:my_logger:Log message 9835\n",
            "INFO:my_logger:Log message 9836\n",
            "INFO:my_logger:Log message 9837\n",
            "INFO:my_logger:Log message 9838\n",
            "INFO:my_logger:Log message 9839\n",
            "INFO:my_logger:Log message 9840\n",
            "INFO:my_logger:Log message 9841\n",
            "INFO:my_logger:Log message 9842\n",
            "INFO:my_logger:Log message 9843\n",
            "INFO:my_logger:Log message 9844\n",
            "INFO:my_logger:Log message 9845\n",
            "INFO:my_logger:Log message 9846\n",
            "INFO:my_logger:Log message 9847\n",
            "INFO:my_logger:Log message 9848\n",
            "INFO:my_logger:Log message 9849\n",
            "INFO:my_logger:Log message 9850\n",
            "INFO:my_logger:Log message 9851\n",
            "INFO:my_logger:Log message 9852\n",
            "INFO:my_logger:Log message 9853\n",
            "INFO:my_logger:Log message 9854\n",
            "INFO:my_logger:Log message 9855\n",
            "INFO:my_logger:Log message 9856\n",
            "INFO:my_logger:Log message 9857\n",
            "INFO:my_logger:Log message 9858\n",
            "INFO:my_logger:Log message 9859\n",
            "INFO:my_logger:Log message 9860\n",
            "INFO:my_logger:Log message 9861\n",
            "INFO:my_logger:Log message 9862\n",
            "INFO:my_logger:Log message 9863\n",
            "INFO:my_logger:Log message 9864\n",
            "INFO:my_logger:Log message 9865\n",
            "INFO:my_logger:Log message 9866\n",
            "INFO:my_logger:Log message 9867\n",
            "INFO:my_logger:Log message 9868\n",
            "INFO:my_logger:Log message 9869\n",
            "INFO:my_logger:Log message 9870\n",
            "INFO:my_logger:Log message 9871\n",
            "INFO:my_logger:Log message 9872\n",
            "INFO:my_logger:Log message 9873\n",
            "INFO:my_logger:Log message 9874\n",
            "INFO:my_logger:Log message 9875\n",
            "INFO:my_logger:Log message 9876\n",
            "INFO:my_logger:Log message 9877\n",
            "INFO:my_logger:Log message 9878\n",
            "INFO:my_logger:Log message 9879\n",
            "INFO:my_logger:Log message 9880\n",
            "INFO:my_logger:Log message 9881\n",
            "INFO:my_logger:Log message 9882\n",
            "INFO:my_logger:Log message 9883\n",
            "INFO:my_logger:Log message 9884\n",
            "INFO:my_logger:Log message 9885\n",
            "INFO:my_logger:Log message 9886\n",
            "INFO:my_logger:Log message 9887\n",
            "INFO:my_logger:Log message 9888\n",
            "INFO:my_logger:Log message 9889\n",
            "INFO:my_logger:Log message 9890\n",
            "INFO:my_logger:Log message 9891\n",
            "INFO:my_logger:Log message 9892\n",
            "INFO:my_logger:Log message 9893\n",
            "INFO:my_logger:Log message 9894\n",
            "INFO:my_logger:Log message 9895\n",
            "INFO:my_logger:Log message 9896\n",
            "INFO:my_logger:Log message 9897\n",
            "INFO:my_logger:Log message 9898\n",
            "INFO:my_logger:Log message 9899\n",
            "INFO:my_logger:Log message 9900\n",
            "INFO:my_logger:Log message 9901\n",
            "INFO:my_logger:Log message 9902\n",
            "INFO:my_logger:Log message 9903\n",
            "INFO:my_logger:Log message 9904\n",
            "INFO:my_logger:Log message 9905\n",
            "INFO:my_logger:Log message 9906\n",
            "INFO:my_logger:Log message 9907\n",
            "INFO:my_logger:Log message 9908\n",
            "INFO:my_logger:Log message 9909\n",
            "INFO:my_logger:Log message 9910\n",
            "INFO:my_logger:Log message 9911\n",
            "INFO:my_logger:Log message 9912\n",
            "INFO:my_logger:Log message 9913\n",
            "INFO:my_logger:Log message 9914\n",
            "INFO:my_logger:Log message 9915\n",
            "INFO:my_logger:Log message 9916\n",
            "INFO:my_logger:Log message 9917\n",
            "INFO:my_logger:Log message 9918\n",
            "INFO:my_logger:Log message 9919\n",
            "INFO:my_logger:Log message 9920\n",
            "INFO:my_logger:Log message 9921\n",
            "INFO:my_logger:Log message 9922\n",
            "INFO:my_logger:Log message 9923\n",
            "INFO:my_logger:Log message 9924\n",
            "INFO:my_logger:Log message 9925\n",
            "INFO:my_logger:Log message 9926\n",
            "INFO:my_logger:Log message 9927\n",
            "INFO:my_logger:Log message 9928\n",
            "INFO:my_logger:Log message 9929\n",
            "INFO:my_logger:Log message 9930\n",
            "INFO:my_logger:Log message 9931\n",
            "INFO:my_logger:Log message 9932\n",
            "INFO:my_logger:Log message 9933\n",
            "INFO:my_logger:Log message 9934\n",
            "INFO:my_logger:Log message 9935\n",
            "INFO:my_logger:Log message 9936\n",
            "INFO:my_logger:Log message 9937\n",
            "INFO:my_logger:Log message 9938\n",
            "INFO:my_logger:Log message 9939\n",
            "INFO:my_logger:Log message 9940\n",
            "INFO:my_logger:Log message 9941\n",
            "INFO:my_logger:Log message 9942\n",
            "INFO:my_logger:Log message 9943\n",
            "INFO:my_logger:Log message 9944\n",
            "INFO:my_logger:Log message 9945\n",
            "INFO:my_logger:Log message 9946\n",
            "INFO:my_logger:Log message 9947\n",
            "INFO:my_logger:Log message 9948\n",
            "INFO:my_logger:Log message 9949\n",
            "INFO:my_logger:Log message 9950\n",
            "INFO:my_logger:Log message 9951\n",
            "INFO:my_logger:Log message 9952\n",
            "INFO:my_logger:Log message 9953\n",
            "INFO:my_logger:Log message 9954\n",
            "INFO:my_logger:Log message 9955\n",
            "INFO:my_logger:Log message 9956\n",
            "INFO:my_logger:Log message 9957\n",
            "INFO:my_logger:Log message 9958\n",
            "INFO:my_logger:Log message 9959\n",
            "INFO:my_logger:Log message 9960\n",
            "INFO:my_logger:Log message 9961\n",
            "INFO:my_logger:Log message 9962\n",
            "INFO:my_logger:Log message 9963\n",
            "INFO:my_logger:Log message 9964\n",
            "INFO:my_logger:Log message 9965\n",
            "INFO:my_logger:Log message 9966\n",
            "INFO:my_logger:Log message 9967\n",
            "INFO:my_logger:Log message 9968\n",
            "INFO:my_logger:Log message 9969\n",
            "INFO:my_logger:Log message 9970\n",
            "INFO:my_logger:Log message 9971\n",
            "INFO:my_logger:Log message 9972\n",
            "INFO:my_logger:Log message 9973\n",
            "INFO:my_logger:Log message 9974\n",
            "INFO:my_logger:Log message 9975\n",
            "INFO:my_logger:Log message 9976\n",
            "INFO:my_logger:Log message 9977\n",
            "INFO:my_logger:Log message 9978\n",
            "INFO:my_logger:Log message 9979\n",
            "INFO:my_logger:Log message 9980\n",
            "INFO:my_logger:Log message 9981\n",
            "INFO:my_logger:Log message 9982\n",
            "INFO:my_logger:Log message 9983\n",
            "INFO:my_logger:Log message 9984\n",
            "INFO:my_logger:Log message 9985\n",
            "INFO:my_logger:Log message 9986\n",
            "INFO:my_logger:Log message 9987\n",
            "INFO:my_logger:Log message 9988\n",
            "INFO:my_logger:Log message 9989\n",
            "INFO:my_logger:Log message 9990\n",
            "INFO:my_logger:Log message 9991\n",
            "INFO:my_logger:Log message 9992\n",
            "INFO:my_logger:Log message 9993\n",
            "INFO:my_logger:Log message 9994\n",
            "INFO:my_logger:Log message 9995\n",
            "INFO:my_logger:Log message 9996\n",
            "INFO:my_logger:Log message 9997\n",
            "INFO:my_logger:Log message 9998\n",
            "INFO:my_logger:Log message 9999\n"
          ]
        }
      ]
    },
    {
      "cell_type": "markdown",
      "source": [
        "Q19 Write a program that handles both IndexError and KeyError using a try-except block.\n",
        "\n",
        "Ans]"
      ],
      "metadata": {
        "id": "9fsJSV6saZdK"
      }
    },
    {
      "cell_type": "code",
      "source": [
        "my_list = [10, 20, 30]\n",
        "my_dict = {\"name\": \"Yash\", \"age\": 21}\n",
        "\n",
        "try:\n",
        "    # Cause IndexError\n",
        "    print(my_list[5])\n",
        "\n",
        "    # Cause KeyError\n",
        "    print(my_dict[\"city\"])\n",
        "\n",
        "except IndexError:\n",
        "    print(\"Error: List index out of range.\")\n",
        "except KeyError:\n",
        "    print(\"Error: Key not found in dictionary.\")\n"
      ],
      "metadata": {
        "colab": {
          "base_uri": "https://localhost:8080/"
        },
        "id": "5qbsbwooahy0",
        "outputId": "10216d10-9ee7-46b2-9a93-c920d8cc346f"
      },
      "execution_count": 24,
      "outputs": [
        {
          "output_type": "stream",
          "name": "stdout",
          "text": [
            "Error: List index out of range.\n"
          ]
        }
      ]
    },
    {
      "cell_type": "markdown",
      "source": [
        "Q20 How would you open a file and read its contents using a context manager in Python?\n",
        "\n",
        "Ans]"
      ],
      "metadata": {
        "id": "HM1Y4WHGasO8"
      }
    },
    {
      "cell_type": "code",
      "source": [
        "# Open and read file using context manager\n",
        "with open(\"example.txt\", \"r\") as file:\n",
        "    content = file.read()\n",
        "    print(content)\n"
      ],
      "metadata": {
        "colab": {
          "base_uri": "https://localhost:8080/"
        },
        "id": "7HYKw9wGazr3",
        "outputId": "6ec07ff9-99f0-4aa8-953d-ef1c61ff8f6a"
      },
      "execution_count": 25,
      "outputs": [
        {
          "output_type": "stream",
          "name": "stdout",
          "text": [
            "Hello, Python!\n",
            "This is new appended text.\n"
          ]
        }
      ]
    },
    {
      "cell_type": "markdown",
      "source": [
        "Q21 Write a Python program that reads a file and prints the number of occurrences of a specific word.\n",
        "\n",
        "Ans]"
      ],
      "metadata": {
        "id": "RZ11PX9Na5GR"
      }
    },
    {
      "cell_type": "code",
      "source": [
        "# Ask for the word to search\n",
        "word_to_find = \"python\"\n",
        "\n",
        "# Open and read the file\n",
        "with open(\"example.txt\", \"r\") as file:\n",
        "    content = file.read()\n",
        "\n",
        "# Count occurrences (case-insensitive)\n",
        "count = content.lower().split().count(word_to_find.lower())\n",
        "\n",
        "print(f\"The word '{word_to_find}' occurs {count} times in the file.\")\n"
      ],
      "metadata": {
        "colab": {
          "base_uri": "https://localhost:8080/"
        },
        "id": "UI1zfoU0a-0v",
        "outputId": "08c061f2-7881-4100-b4c0-a61554edbf2f"
      },
      "execution_count": 26,
      "outputs": [
        {
          "output_type": "stream",
          "name": "stdout",
          "text": [
            "The word 'python' occurs 0 times in the file.\n"
          ]
        }
      ]
    },
    {
      "cell_type": "markdown",
      "source": [
        "Q22 How can you check if a file is empty before attempting to read its contents?\n",
        "\n",
        "Ans]"
      ],
      "metadata": {
        "id": "qa59oD3abEZF"
      }
    },
    {
      "cell_type": "code",
      "source": [
        "import os\n",
        "\n",
        "filename = \"example.txt\"\n",
        "\n",
        "if os.path.getsize(filename) == 0:\n",
        "    print(\"The file is empty.\")\n",
        "else:\n",
        "    with open(filename, \"r\") as file:\n",
        "        print(file.read())\n"
      ],
      "metadata": {
        "colab": {
          "base_uri": "https://localhost:8080/"
        },
        "id": "P5uS5Z9LbIvC",
        "outputId": "1eb688ed-1493-4b30-be35-4b93c696d8c1"
      },
      "execution_count": 27,
      "outputs": [
        {
          "output_type": "stream",
          "name": "stdout",
          "text": [
            "Hello, Python!\n",
            "This is new appended text.\n"
          ]
        }
      ]
    },
    {
      "cell_type": "markdown",
      "source": [
        "Q23  Write a Python program that writes to a log file when an error occurs during file handling.\n",
        "\n",
        "Ans]"
      ],
      "metadata": {
        "id": "iR-qMoDTba7R"
      }
    },
    {
      "cell_type": "code",
      "source": [
        "import logging\n",
        "\n",
        "# Configure logging\n",
        "logging.basicConfig(\n",
        "    filename=\"file_error.log\",\n",
        "    level=logging.ERROR,\n",
        "    format=\"%(asctime)s - %(levelname)s - %(message)s\"\n",
        ")\n",
        "\n",
        "try:\n",
        "    # Try opening a file that may not exist\n",
        "    with open(\"nonexistent_file.txt\", \"r\") as file:\n",
        "        content = file.read()\n",
        "except FileNotFoundError as e:\n",
        "    logging.error(\"File handling error occurred: %s\", e)\n",
        "    print(\"Error logged to file\")\n"
      ],
      "metadata": {
        "colab": {
          "base_uri": "https://localhost:8080/"
        },
        "id": "8C2WLSh5biNR",
        "outputId": "6539430a-61a3-4726-c703-7a05066c5036"
      },
      "execution_count": 28,
      "outputs": [
        {
          "output_type": "stream",
          "name": "stderr",
          "text": [
            "ERROR:root:File handling error occurred: [Errno 2] No such file or directory: 'nonexistent_file.txt'\n"
          ]
        },
        {
          "output_type": "stream",
          "name": "stdout",
          "text": [
            "Error logged to file\n"
          ]
        }
      ]
    }
  ]
}